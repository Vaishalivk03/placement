{
  "nbformat": 4,
  "nbformat_minor": 0,
  "metadata": {
    "colab": {
      "provenance": [],
      "authorship_tag": "ABX9TyPY+a0HtiwkkLIcyyQXZoyt",
      "include_colab_link": true
    },
    "kernelspec": {
      "name": "python3",
      "display_name": "Python 3"
    },
    "language_info": {
      "name": "python"
    }
  },
  "cells": [
    {
      "cell_type": "markdown",
      "metadata": {
        "id": "view-in-github",
        "colab_type": "text"
      },
      "source": [
        "<a href=\"https://colab.research.google.com/github/Vaishalivk03/placement/blob/main/Untitled1.ipynb\" target=\"_parent\"><img src=\"https://colab.research.google.com/assets/colab-badge.svg\" alt=\"Open In Colab\"/></a>"
      ]
    },
    {
      "cell_type": "code",
      "execution_count": null,
      "metadata": {
        "id": "W3IR1MCyFvzq"
      },
      "outputs": [],
      "source": [
        "#happy number\n",
        "num=int(input(\"enter no.\"))\n",
        "while(num!=1 and num!=4):\n",
        "  sum=0\n",
        "  while(num):\n",
        "     r=num%10\n",
        "     sq=r**2\n",
        "     sum=sum+sq\n",
        "     num=num//10\n",
        "  num=sum\n",
        "if(num==1):\n",
        "    print(\"happy\")\n",
        "elif(num==4):\n",
        "    print(\"not happy\")"
      ]
    },
    {
      "cell_type": "code",
      "source": [
        "#happy nymber using user defined function\n",
        "def ishappy(n):\n",
        " sum=0\n",
        " while(n):\n",
        "  r=n%10\n",
        "  sum=sum+r**2\n",
        "  n=n//10\n",
        " return sum\n",
        "\n",
        "n=int(input())\n",
        "res=n\n",
        "while(res!=1 and res!=4):\n",
        "  res=ishappy(res)\n",
        "if(res==1):\n",
        "  print(\"happy\")\n",
        "elif(res==4):\n",
        "  print(\"not happy\")"
      ],
      "metadata": {
        "id": "8DD66x55GYpP"
      },
      "execution_count": null,
      "outputs": []
    },
    {
      "cell_type": "code",
      "source": [
        "#check prime or not , print the no.,print count of no.\n",
        "start=int(input(\"enter the starting number\"))\n",
        "end=int(input(\"enter the ending number\"))\n",
        "count=0\n",
        "# if(num==0 and num==1):\n",
        "#   print(\"not prime\")\n",
        "\n",
        "for num in range (start, end+1):\n",
        "    if num > 1:\n",
        "        for i in range (2, num):\n",
        "            if (num % i) == 0:\n",
        "                break\n",
        "        else:\n",
        "            print (num)\n",
        "            count=count+1\n",
        "print(\"total prime numbers in a given range=\",count)"
      ],
      "metadata": {
        "colab": {
          "base_uri": "https://localhost:8080/"
        },
        "id": "Qww54WIhKcA7",
        "outputId": "8826958e-50ca-4a6b-b61e-301e1f59a90d"
      },
      "execution_count": null,
      "outputs": [
        {
          "output_type": "stream",
          "name": "stdout",
          "text": [
            "enter the starting number1\n",
            "enter the ending number10\n",
            "2\n",
            "3\n",
            "5\n",
            "7\n",
            "total prime numbers in a given range= 4\n"
          ]
        }
      ]
    },
    {
      "cell_type": "code",
      "source": [
        "#fibonacci\n",
        "n=int(input(\"enter the no.\"))\n",
        "f1=0\n",
        "f2=1\n",
        "print(f1,f2,end=\" \")#end is delimiter\n",
        "for i in range (2,n):\n",
        "  f3=f1+f2\n",
        "  print(f3,end=\" \")\n",
        "  f1=f2\n",
        "  f2=f3\n",
        "\n",
        "\n"
      ],
      "metadata": {
        "colab": {
          "base_uri": "https://localhost:8080/"
        },
        "id": "6J4TEwuELSsY",
        "outputId": "26098c63-fcb6-4f69-afbb-449a8294c8bf"
      },
      "execution_count": null,
      "outputs": [
        {
          "output_type": "stream",
          "name": "stdout",
          "text": [
            "enter the no.5\n",
            "0 1 1 2 3 "
          ]
        }
      ]
    },
    {
      "cell_type": "code",
      "source": [
        "#write a python program to find the best of 2 test average marks out of 3 tests marks accepted by the user\n",
        "def avg(a,b):\n",
        "  c=(a+b)/2\n",
        "  return c\n",
        "\n",
        "x=int(input(\"enter sub1 marks\"))\n",
        "y=int(input(\"enter sub2 marks\"))\n",
        "z=int(input(\"enter sub3 marks\"))\n",
        "a1=avg(x,y)\n",
        "a2=avg(y,z)\n",
        "a3=avg(y,z)\n",
        "\n",
        "if(a1>a2 and a1>a3):\n",
        " print(a1)\n",
        "elif(a2>a3 and a2>a1):\n",
        " print(a2)\n",
        "else:\n",
        " print(a3)\n"
      ],
      "metadata": {
        "colab": {
          "base_uri": "https://localhost:8080/"
        },
        "id": "p1ADZnCNXjx5",
        "outputId": "0f2258b1-c972-4870-d751-fc20c8d311be"
      },
      "execution_count": null,
      "outputs": [
        {
          "output_type": "stream",
          "name": "stdout",
          "text": [
            "enter sub1 marks20\n",
            "enter sub2 marks10\n",
            "enter sub3 marks30\n",
            "20.0\n"
          ]
        }
      ]
    },
    {
      "cell_type": "code",
      "source": [
        "#develop a python program to convert a binary number into decimal, octal and hexadecimal number using functions"
      ],
      "metadata": {
        "id": "Ev4UPp85X9CF"
      },
      "execution_count": null,
      "outputs": []
    },
    {
      "cell_type": "code",
      "source": [
        "# define a function F as Fn=Fn-1 + Fn-2. write a python program which accepts a value for N (where N>0) as input and pass this value to the function.\n",
        "# display suitable error message if the condition for input value is not followed"
      ],
      "metadata": {
        "id": "7EAEWgolYMjC"
      },
      "execution_count": null,
      "outputs": []
    },
    {
      "cell_type": "code",
      "source": [
        "#write a program to find string similarity between 2 strings"
      ],
      "metadata": {
        "id": "8LCLHT7SY2DL"
      },
      "execution_count": null,
      "outputs": []
    },
    {
      "cell_type": "code",
      "source": [
        "#write a python program that accepts a sentence and finds the no. of words,digits,uppercase and lower case letters\n"
      ],
      "metadata": {
        "id": "sixFJsEMZILw"
      },
      "execution_count": null,
      "outputs": []
    },
    {
      "cell_type": "code",
      "source": [
        "#  *\n",
        "#  * *\n",
        "#  * * *\n",
        "#  * * * *\n",
        "#  * * * * *\n",
        "n=int(input())\n",
        "for i in range(0,n):\n",
        "  for j in range(0,i+1):\n",
        "    print(\"*\",end=\" \")\n",
        "  print()\n",
        "  # if(j<=i):"
      ],
      "metadata": {
        "colab": {
          "base_uri": "https://localhost:8080/"
        },
        "id": "DAWxQ7ILZTwY",
        "outputId": "a7dbe957-3e2c-4609-af6b-f437243d47f0"
      },
      "execution_count": null,
      "outputs": [
        {
          "output_type": "stream",
          "name": "stdout",
          "text": [
            "5\n",
            "* \n",
            "* * \n",
            "* * * \n",
            "* * * * \n",
            "* * * * * \n"
          ]
        }
      ]
    },
    {
      "cell_type": "code",
      "source": [
        "#           *\n",
        "#         * *\n",
        "#       * * *\n",
        "#     * * * *\n",
        "#   * * * * *\n",
        "n=int(input())\n",
        "for i in range(0,n):\n",
        "  for j in range(0,n):\n",
        "    if(i+j>=n-1):\n",
        "     print(\"*\",end=\" \")\n",
        "    else:\n",
        "     print(\" \",end=\" \")\n",
        "  print()\n"
      ],
      "metadata": {
        "colab": {
          "base_uri": "https://localhost:8080/"
        },
        "id": "uE1GZ7FPaLkz",
        "outputId": "9867a0fa-88d1-43ae-e92f-a6d9c704b60a"
      },
      "execution_count": null,
      "outputs": [
        {
          "output_type": "stream",
          "name": "stdout",
          "text": [
            "5\n",
            "        * \n",
            "      * * \n",
            "    * * * \n",
            "  * * * * \n",
            "* * * * * \n"
          ]
        }
      ]
    },
    {
      "cell_type": "code",
      "source": [
        "# * * * * *\n",
        "#   * * * *\n",
        "#     * * *\n",
        "#       * *\n",
        "#         *\n",
        "n=int(input())\n",
        "for i in range(0,n):\n",
        "  for j in range(0,n):\n",
        "    if(j>=i):\n",
        "      print(\"*\",end=\" \")\n",
        "    else:\n",
        "      print(\" \",end=\" \")\n",
        "  print()\n",
        "\n"
      ],
      "metadata": {
        "colab": {
          "base_uri": "https://localhost:8080/"
        },
        "id": "uI5FiBobaj1e",
        "outputId": "50f6e35b-2ff5-4d75-ff8e-fc540ba5fbf3"
      },
      "execution_count": null,
      "outputs": [
        {
          "output_type": "stream",
          "name": "stdout",
          "text": [
            "5\n",
            "* * * * * \n",
            "  * * * * \n",
            "    * * * \n",
            "      * * \n",
            "        * \n"
          ]
        }
      ]
    },
    {
      "cell_type": "code",
      "source": [
        "# * * * * *\n",
        "# * * * *\n",
        "# * * *\n",
        "# * *\n",
        "# *\n",
        "n=int(input())\n",
        "for i in range(0,n):\n",
        "  for j in range(i,n):\n",
        "    print(\"*\",end=\" \")\n",
        "  print()\n",
        "    # (0,n)\n",
        "    #if(j>=i):\n",
        "    #if(i+j<=n-1):"
      ],
      "metadata": {
        "colab": {
          "base_uri": "https://localhost:8080/"
        },
        "id": "T7FNMFXOav0y",
        "outputId": "df0fe3f1-2193-4d4e-e920-fa48f9c931aa"
      },
      "execution_count": null,
      "outputs": [
        {
          "output_type": "stream",
          "name": "stdout",
          "text": [
            "5\n",
            "* * * * * \n",
            "* * * * \n",
            "* * * \n",
            "* * \n",
            "* \n"
          ]
        }
      ]
    },
    {
      "cell_type": "code",
      "source": [
        "# * * * * *\n",
        "# * * * * *\n",
        "# * * * * *\n",
        "# * * * * *\n",
        "# * * * * *\n",
        "n =int(input(\"enter the rows\"))\n",
        "#m =int(input(\"enter the col\"))\n",
        "for i in range(0,n):\n",
        "  for j in range(0,n):\n",
        "    print(\"*\",end=\" \")\n",
        "  print()"
      ],
      "metadata": {
        "colab": {
          "base_uri": "https://localhost:8080/"
        },
        "id": "QN65FIYnbLl7",
        "outputId": "9c3d6a90-4d2a-4de5-9e22-9af0f1937ba5"
      },
      "execution_count": null,
      "outputs": [
        {
          "output_type": "stream",
          "name": "stdout",
          "text": [
            "enter the rows5\n",
            "enter the col6\n",
            "* * * * * * \n",
            "* * * * * * \n",
            "* * * * * * \n",
            "* * * * * * \n",
            "* * * * * * \n"
          ]
        }
      ]
    },
    {
      "cell_type": "code",
      "source": [
        "#1\n",
        "#1 2\n",
        "#1 2 3\n",
        "#1 2 3 4\n",
        "#1 2 3 4 5\n",
        "n=int(input())\n",
        "for i in range(0,n):\n",
        "  for j in range(0,i+1):\n",
        "    print(j+1,end=\" \")\n",
        "  print()\n"
      ],
      "metadata": {
        "colab": {
          "base_uri": "https://localhost:8080/"
        },
        "id": "Uatrw6-FbS-R",
        "outputId": "95195f33-61bf-4f64-97eb-356b8ad87258"
      },
      "execution_count": null,
      "outputs": [
        {
          "output_type": "stream",
          "name": "stdout",
          "text": [
            "5\n",
            "1 \n",
            "1 2 \n",
            "1 2 3 \n",
            "1 2 3 4 \n",
            "1 2 3 4 5 \n"
          ]
        }
      ]
    },
    {
      "cell_type": "code",
      "source": [
        "# 1\n",
        "# 2 2\n",
        "# 3 3 3\n",
        "# 4 4 4 4\n",
        "# 5 5 5 5 5\n",
        "n=int(input())\n",
        "for i in range(0,n):\n",
        "  for j in range(0,i+1):\n",
        "    print(i+1,end=\" \")\n",
        "  print()"
      ],
      "metadata": {
        "colab": {
          "base_uri": "https://localhost:8080/"
        },
        "id": "dSGAKXLRbYl1",
        "outputId": "dcdc3c2f-e4f6-4ba2-cc8e-8f965c117f51"
      },
      "execution_count": null,
      "outputs": [
        {
          "output_type": "stream",
          "name": "stdout",
          "text": [
            "5\n",
            "1 \n",
            "2 2 \n",
            "3 3 3 \n",
            "4 4 4 4 \n",
            "5 5 5 5 5 \n"
          ]
        }
      ]
    },
    {
      "cell_type": "code",
      "source": [
        "# * * * * *\n",
        "# *       *\n",
        "# *       *\n",
        "# *       *\n",
        "# * * * * *\n",
        "# n =int(input(\"enter the rows\"))\n",
        "# #m =int(input(\"enter the col\"))\n",
        "# for i in range(0,n):\n",
        "#   if(i!=0 and i!=n-1):\n",
        "#     for j in range(0,n):\n",
        "#       if(j==0 or j==n-1):\n",
        "#         print(\"*\",end=\" \")\n",
        "#       else:\n",
        "#         print(\" \",end=\" \")\n",
        "\n",
        "#   else:\n",
        "#     for j in range(0,n):\n",
        "#       print(\"*\",end=\" \")\n",
        "#   print()\n",
        "\n",
        "n=int(input())\n",
        "for i in range(n):\n",
        "  for j in range(n):\n",
        "    if i==0 or i==n-1 or j==0 or j==n-1:\n",
        "      print(\"*\",end=\" \")\n",
        "    else:\n",
        "      print(\" \",end=\" \")\n",
        "  print()"
      ],
      "metadata": {
        "colab": {
          "base_uri": "https://localhost:8080/"
        },
        "id": "lqmH2ivOblDg",
        "outputId": "32eb0682-a494-4d35-c7d2-a13e1b424501"
      },
      "execution_count": null,
      "outputs": [
        {
          "output_type": "stream",
          "name": "stdout",
          "text": [
            "5\n",
            "* * * * * \n",
            "*       * \n",
            "*       * \n",
            "*       * \n",
            "* * * * * \n"
          ]
        }
      ]
    },
    {
      "cell_type": "code",
      "source": [
        "# * * * * *\n",
        "# * *   * *\n",
        "# *   *   *\n",
        "# * *   * *\n",
        "# * * * * *\n",
        "# n =int(input(\"enter the rows\"))\n",
        "# #m =int(input(\"enter the col\"))\n",
        "# for i in range(0,n):\n",
        "#   if(i!=0 and i!=n-1):\n",
        "#      for j in range(0,n):\n",
        "#       if(j==i or j==n-i-1 or j==0 or j==n-1):\n",
        "#        print(\"*\",end=\" \")\n",
        "#       else:\n",
        "#        print(\" \",end=\" \")\n",
        "#   else:\n",
        "#       for j in range(0,n):\n",
        "#         print(\"*\",end=\" \")\n",
        "#   print()\n",
        "n=int(input())\n",
        "for i in range(n):\n",
        "  for j in range(n):\n",
        "    if(i==0 or j==0 or i==n-1 or j==n-1 or i==j or i+j==n-1):\n",
        "     print(\"*\",end=\" \")\n",
        "    else:\n",
        "     print(\" \",end=\" \")\n",
        "  print()"
      ],
      "metadata": {
        "colab": {
          "base_uri": "https://localhost:8080/"
        },
        "id": "qkSSosiMbqj_",
        "outputId": "a912fe08-71b2-49cb-b6be-78bf5fa2031e"
      },
      "execution_count": null,
      "outputs": [
        {
          "output_type": "stream",
          "name": "stdout",
          "text": [
            "5\n",
            "* * * * * \n",
            "* *   * * \n",
            "*   *   * \n",
            "* *   * * \n",
            "* * * * * \n"
          ]
        }
      ]
    },
    {
      "cell_type": "code",
      "source": [
        "# 1  2  3  4\n",
        "# 5  6  7  8\n",
        "# 9  10 11 12\n",
        "# 13 14 15 16\n",
        "n =int(input(\"enter the rows\"))\n",
        "l=1\n",
        "for i in range(0,n):\n",
        "  for j in range(0,n):\n",
        "    print(l,end=\" \")\n",
        "    l=l+1\n",
        "  print()"
      ],
      "metadata": {
        "colab": {
          "base_uri": "https://localhost:8080/"
        },
        "id": "RTO3GpDpcHqU",
        "outputId": "15dbb9be-fe2d-4895-9fd5-3beda21e0f55"
      },
      "execution_count": null,
      "outputs": [
        {
          "output_type": "stream",
          "name": "stdout",
          "text": [
            "enter the rows4\n",
            "1 2 3 4 \n",
            "5 6 7 8 \n",
            "9 10 11 12 \n",
            "13 14 15 16 \n"
          ]
        }
      ]
    },
    {
      "cell_type": "code",
      "source": [
        "# A A A A A\n",
        "# A A A A A\n",
        "# A A A A A\n",
        "# A A A A A\n",
        "# A A A A A\n",
        "\n",
        "# take user input for char to be printed\n",
        "\n",
        "n=int(input())\n",
        "k=input()\n",
        "for i in range(n):\n",
        "  for j in range(n):\n",
        "    print(k,end=\" \")\n",
        "  print()"
      ],
      "metadata": {
        "colab": {
          "base_uri": "https://localhost:8080/"
        },
        "id": "DS-1Z21FcYzR",
        "outputId": "141de709-c7fe-46bb-a7f1-d4b07130afe0"
      },
      "execution_count": null,
      "outputs": [
        {
          "output_type": "stream",
          "name": "stdout",
          "text": [
            "6\n",
            "u\n",
            "u u u u u u \n",
            "u u u u u u \n",
            "u u u u u u \n",
            "u u u u u u \n",
            "u u u u u u \n",
            "u u u u u u \n"
          ]
        }
      ]
    },
    {
      "cell_type": "code",
      "source": [
        "#factorial\n",
        "num=int(input(\"enter no\"))\n",
        "f=1\n",
        "if num<0:\n",
        "  print(\"doesn't exist\")\n",
        "elif(num==0):\n",
        "  print(\"1\")\n",
        "else:\n",
        "  for i in range(1,num+1):\n",
        "    f=f*i\n",
        "  print(f)"
      ],
      "metadata": {
        "colab": {
          "base_uri": "https://localhost:8080/"
        },
        "id": "Vq6q05YFGSHI",
        "outputId": "72029d4d-5f89-4e54-999f-ab8c1ef4b989"
      },
      "execution_count": null,
      "outputs": [
        {
          "output_type": "stream",
          "name": "stdout",
          "text": [
            "enter no3\n",
            "6\n"
          ]
        }
      ]
    },
    {
      "cell_type": "code",
      "source": [
        "#write a program to read a string from user and implement the logic to remove the characters which are at the odd number of the index\n",
        "n=input(\"enter the string\")\n",
        "a=\" \"\n",
        "l=len(n)\n",
        "for i in range(0,l):\n",
        "# for i in range(0,l,2):\n",
        "  if(i%2!=0):\n",
        "    a=a+n[i]\n",
        "print(a)\n",
        "#in range use skip of 2\n",
        "\n"
      ],
      "metadata": {
        "colab": {
          "base_uri": "https://localhost:8080/"
        },
        "id": "Driu57AkI_0t",
        "outputId": "d453f1fc-ad63-4c7d-8c82-038f332cb6ac"
      },
      "execution_count": null,
      "outputs": [
        {
          "output_type": "stream",
          "name": "stdout",
          "text": [
            "enter the stringhello\n",
            " hlo\n"
          ]
        }
      ]
    },
    {
      "cell_type": "code",
      "source": [
        "#write a program to swap 2 numbers using a 3rd var\n",
        "a=int(input())\n",
        "b=int(input())\n",
        "c=a\n",
        "a=b\n",
        "b=c\n",
        "print(a)\n",
        "print(b)"
      ],
      "metadata": {
        "colab": {
          "base_uri": "https://localhost:8080/"
        },
        "id": "tc2hBE2iL7tq",
        "outputId": "9260882a-07c0-4f42-d300-078911d58541"
      },
      "execution_count": null,
      "outputs": [
        {
          "output_type": "stream",
          "name": "stdout",
          "text": [
            "2\n",
            "3\n",
            "3\n",
            "2\n"
          ]
        }
      ]
    },
    {
      "cell_type": "code",
      "source": [
        "#write code to swap wiyhout 3rd var\n",
        "a=int(input())\n",
        "b=int(input())\n",
        "a,b=b,a\n",
        "print(a,b)\n",
        "\n",
        "#a=a+b\n",
        "#b=a-b\n",
        "#a=a-b"
      ],
      "metadata": {
        "colab": {
          "base_uri": "https://localhost:8080/"
        },
        "id": "fw76YvKVNWDQ",
        "outputId": "9425c0e1-e641-4013-f8fc-b32b5d2d6043"
      },
      "execution_count": null,
      "outputs": [
        {
          "output_type": "stream",
          "name": "stdout",
          "text": [
            "1\n",
            "2\n",
            "2 1\n"
          ]
        }
      ]
    },
    {
      "cell_type": "code",
      "source": [
        "#leap year\n",
        "def isleap(year):\n",
        "  leap=False\n",
        "  if(year%4==0 and year%100!=0) or year%400==0:\n",
        "    leap=True\n",
        "  return leap\n",
        "\n",
        "year=int(input())\n",
        "print(isleap(year))"
      ],
      "metadata": {
        "colab": {
          "base_uri": "https://localhost:8080/"
        },
        "id": "veMcLzq0dST1",
        "outputId": "85d511a7-62c5-4589-b6e5-350539c8e8b1"
      },
      "execution_count": null,
      "outputs": [
        {
          "output_type": "stream",
          "name": "stdout",
          "text": [
            "1990\n",
            "False\n"
          ]
        }
      ]
    },
    {
      "cell_type": "code",
      "source": [
        "n = int(input())\n",
        "    a=\"\"\n",
        "    for i in range (1,n+1):\n",
        "        a=a+str(i)\n",
        "    print(a)"
      ],
      "metadata": {
        "id": "UcZk9zJ8emaO"
      },
      "execution_count": null,
      "outputs": []
    }
  ]
}